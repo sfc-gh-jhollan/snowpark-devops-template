{
 "cells": [
  {
   "cell_type": "code",
   "execution_count": null,
   "metadata": {},
   "outputs": [],
   "source": [
    "from snowflake.snowpark import Session\n",
    "from snowflake.snowpark.types import LongType, DateType, StringType, StructType, StructField, DoubleType\n",
    "from snowflake.snowpark.functions import year, col, max\n",
    "from utils import get_session\n",
    "\n",
    "session = get_session.session()"
   ]
  },
  {
   "cell_type": "code",
   "execution_count": null,
   "metadata": {},
   "outputs": [],
   "source": [
    "source_data = [\n",
    "        (\"T10109\", \"Implicit Price Deflators For Gross Domestic Product\", None, \"Table 1.1.9. Implicit Price Deflators For Gross Domestic Product (A) (Q)\", \"Index, 2012=100\", \"DPCERD-2\", \"Personal consumption expenditures\", None, None, \"Index, 2012=100\", 1, \"Q\", \"1976-01-01\", 29.437),\n",
    "        (\"T20304\", \"Price Indexes For Personal Consumption Expenditures By Major Type Of Product\", None, \"Table 2.3.4. Price Indexes For Personal Consumption Expenditures By Major Type Of Product (A) (Q)\", \"Index, 2012=100\", \"DPCERG-1\", \"Personal consumption expenditures (PCE)\", None, None, \"Index, 2012=100\", 1, \"A\", \"2021-01-01\", 115.53),\n",
    "        (\"T20304\", \"Price Indexes For Personal Consumption Expenditures By Major Type Of Product\", None, \"Table 2.3.4. Price Indexes For Personal Consumption Expenditures By Major Type Of Product (A) (Q)\", \"Index, 2012=100\", \"DPCERG-1\", \"Personal consumption expenditures (PCE)\", None, None, \"Index, 2012=100\", 1, \"A\", \"1929-01-01\", 9.296)\n",
    "    ]\n",
    "source_df = session.create_dataframe(\n",
    "    source_data,\n",
    "    schema=StructType([StructField('Table', StringType(), nullable=True), StructField('Table_Name', StringType(), nullable=True), StructField('Table_Description', StringType(), nullable=True), StructField('Table_Full_Name', StringType(), nullable=True), StructField('Table_Unit', StringType(), nullable=True), StructField('Indicator', StringType(), nullable=True), StructField('Indicator_Name', StringType(), nullable=True), StructField('Indicator_Description', StringType(), nullable=True), StructField('Indicator_Full_Name', StringType(), nullable=True), StructField('Units', StringType(), nullable=True), StructField('Scale', LongType(), nullable=True), StructField('Frequency', StringType(), nullable=True), StructField('Date', DateType(), nullable=True), StructField('Value', DoubleType(), nullable=True)])\n",
    ")\n",
    "\n",
    "source_df.show()"
   ]
  },
  {
   "cell_type": "code",
   "execution_count": null,
   "metadata": {},
   "outputs": [],
   "source": [
    "df = session.table(\"BEANIPA\").select(year(col('Date')).alias('Year'), col('Value').alias('PCE'))\n",
    "\n",
    "maxYear: int = df.agg(max(col('Year'))).collect()[0][0] # type: ignore"
   ]
  },
  {
   "cell_type": "code",
   "execution_count": null,
   "metadata": {},
   "outputs": [],
   "source": [
    "import pandas as pd\n",
    "series = pd.Series(1.1)\n",
    "series.astype(float)\n",
    "series[0]"
   ]
  }
 ],
 "metadata": {
  "kernelspec": {
   "display_name": "Python 3.8.13 ('x86_p38')",
   "language": "python",
   "name": "python3"
  },
  "language_info": {
   "codemirror_mode": {
    "name": "ipython",
    "version": 3
   },
   "file_extension": ".py",
   "mimetype": "text/x-python",
   "name": "python",
   "nbconvert_exporter": "python",
   "pygments_lexer": "ipython3",
   "version": "3.8.13"
  },
  "orig_nbformat": 4,
  "vscode": {
   "interpreter": {
    "hash": "6c310b686aade603b7b6d1b84b2526a1fe60e588546e8258abd036f8ed7a0730"
   }
  }
 },
 "nbformat": 4,
 "nbformat_minor": 2
}
